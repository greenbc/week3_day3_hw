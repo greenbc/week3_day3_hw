{
 "cells": [
  {
   "cell_type": "markdown",
   "metadata": {},
   "source": [
    "Find Smallest Number  - (Without min)\n",
    "Create a function that given a list of numbers (non-sorted) find the lowest number in the list and return it.\n",
    "Example Input: [50,30,4,2,11,0]\n",
    "Example Output: 0\n",
    "Example Input 2: [40,3,4,2]\n",
    "Example Output 2: 2"
   ]
  },
  {
   "cell_type": "code",
   "execution_count": 2,
   "metadata": {},
   "outputs": [
    {
     "data": {
      "text/plain": [
       "2"
      ]
     },
     "execution_count": 2,
     "metadata": {},
     "output_type": "execute_result"
    }
   ],
   "source": [
    "def minNum(list_1):\n",
    "    result = list_1[0]\n",
    "    for num in list_1:\n",
    "        if num < result:\n",
    "            result = num\n",
    "    return result\n",
    "\n",
    "list_1 = [50,30,4,2,11,0]\n",
    "list_2 = [40,3,4,2]\n",
    "\n",
    "minNum(list_2)"
   ]
  }
 ],
 "metadata": {
  "kernelspec": {
   "display_name": "Python 3",
   "language": "python",
   "name": "python3"
  },
  "language_info": {
   "codemirror_mode": {
    "name": "ipython",
    "version": 3
   },
   "file_extension": ".py",
   "mimetype": "text/x-python",
   "name": "python",
   "nbconvert_exporter": "python",
   "pygments_lexer": "ipython3",
   "version": "3.7.1"
  }
 },
 "nbformat": 4,
 "nbformat_minor": 2
}
